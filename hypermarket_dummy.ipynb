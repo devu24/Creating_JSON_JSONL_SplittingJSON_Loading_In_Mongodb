{
 "cells": [
  {
   "cell_type": "code",
   "execution_count": 2,
   "id": "92ae33cc",
   "metadata": {},
   "outputs": [],
   "source": [
    "import json\n",
    "import random\n",
    "from datetime import datetime, timedelta"
   ]
  },
  {
   "cell_type": "code",
   "execution_count": 3,
   "id": "97bcf0a0",
   "metadata": {},
   "outputs": [
    {
     "name": "stdout",
     "output_type": "stream",
     "text": [
      "Dummy data generated in 'hypermarket_sales_dummy2.json'\n"
     ]
    }
   ],
   "source": [
    "\n",
    "\n",
    "# Dummy data pools\n",
    "store_locations = ['Mumbai', 'Delhi', 'Bangalore', 'Chennai', 'Hyderabad']\n",
    "cashiers = ['Rajesh', 'Priya', 'Sunil', 'Asha', 'Vivek', 'Neha']\n",
    "customer_types = ['Member', 'Walk-in']\n",
    "products = [\n",
    "    {\"product\": \"Rice 5kg\", \"category\": \"Groceries\", \"unit_price\": 290},\n",
    "    {\"product\": \"Milk 1L\", \"category\": \"Dairy\", \"unit_price\": 50},\n",
    "    {\"product\": \"Washing Powder\", \"category\": \"Household\", \"unit_price\": 180},\n",
    "    {\"product\": \"Shampoo\", \"category\": \"Personal Care\", \"unit_price\": 99},\n",
    "    {\"product\": \"Eggs 12pc\", \"category\": \"Poultry\", \"unit_price\": 72},\n",
    "    {\"product\": \"Apple 1kg\", \"category\": \"Fruits\", \"unit_price\": 140}\n",
    "]\n",
    "payment_methods = ['Card', 'Cash', 'UPI', 'Net Banking']\n",
    "\n",
    "# Function to generate a random date within the last 30 days\n",
    "def random_date():\n",
    "    start_date = datetime.now() - timedelta(days=30)\n",
    "    rand_days = random.randint(0, 29)\n",
    "    return (start_date + timedelta(days=rand_days)).strftime('%Y-%m-%d')\n",
    "\n",
    "# Generate dummy records\n",
    "data = []\n",
    "for i in range(1, 10000):  # 100000000 dummy records\n",
    "# for i in range(1, 1000):  # 1000 dummy records\n",
    "    product = random.choice(products)\n",
    "    quantity = random.randint(1, 5)\n",
    "    discount = random.choice([0, 5, 10, 15, int(0.1 * product[\"unit_price\"])])\n",
    "    total_price = product[\"unit_price\"] * quantity - discount\n",
    "    record = {\n",
    "        \"transaction_id\": f\"T{1000+i}\",\n",
    "        \"date\": random_date(),\n",
    "        \"store_id\": f\"S0{random.randint(1, len(store_locations))}\",\n",
    "        \"store_location\": random.choice(store_locations),\n",
    "        \"cashier\": random.choice(cashiers),\n",
    "        \"customer_type\": random.choice(customer_types),\n",
    "        \"product\": product[\"product\"],\n",
    "        \"category\": product[\"category\"],\n",
    "        \"quantity\": quantity,\n",
    "        \"unit_price\": product[\"unit_price\"],\n",
    "        \"discount\": discount,\n",
    "        \"total_price\": total_price,\n",
    "        \"payment_method\": random.choice(payment_methods)\n",
    "    }\n",
    "    data.append(record)\n",
    "\n",
    "# Write to JSON file\n",
    "with open('hypermarket_sales_dummy2.json', 'w') as f:\n",
    "    json.dump(data, f, indent=2)\n",
    "\n",
    "print(\"Dummy data generated in 'hypermarket_sales_dummy2.json'\")\n"
   ]
  },
  {
   "cell_type": "code",
   "execution_count": 4,
   "id": "ffe46cff",
   "metadata": {},
   "outputs": [
    {
     "name": "stdout",
     "output_type": "stream",
     "text": [
      "Dummy JSONL data generated in 'hypermarket_sales_dummy2.jsonl'\n"
     ]
    }
   ],
   "source": [
    "import json\n",
    "import random\n",
    "from datetime import datetime, timedelta\n",
    "\n",
    "store_locations = ['Mumbai', 'Delhi', 'Bangalore', 'Chennai', 'Hyderabad']\n",
    "cashiers = ['Rajesh', 'Priya', 'Sunil', 'Asha', 'Vivek', 'Neha']\n",
    "customer_types = ['Member', 'Walk-in']\n",
    "products = [\n",
    "    {\"product\": \"Rice 5kg\", \"category\": \"Groceries\", \"unit_price\": 290},\n",
    "    {\"product\": \"Milk 1L\", \"category\": \"Dairy\", \"unit_price\": 50},\n",
    "    {\"product\": \"Washing Powder\", \"category\": \"Household\", \"unit_price\": 180},\n",
    "    {\"product\": \"Shampoo\", \"category\": \"Personal Care\", \"unit_price\": 99},\n",
    "    {\"product\": \"Eggs 12pc\", \"category\": \"Poultry\", \"unit_price\": 72},\n",
    "    {\"product\": \"Apple 1kg\", \"category\": \"Fruits\", \"unit_price\": 140}\n",
    "]\n",
    "payment_methods = ['Card', 'Cash', 'UPI', 'Net Banking']\n",
    "\n",
    "def random_date():\n",
    "    start_date = datetime.now() - timedelta(days=30)\n",
    "    rand_days = random.randint(0, 29)\n",
    "    return (start_date + timedelta(days=rand_days)).strftime('%Y-%m-%d')\n",
    "\n",
    "with open('hypermarket_sales_dummy2.jsonl', 'w', encoding='utf8') as f:\n",
    "    for i in range(1, 10000):  # 10,000 dummy records\n",
    "        product = random.choice(products)\n",
    "        quantity = random.randint(1, 5)\n",
    "        discount = random.choice([0, 5, 10, 15, int(0.1 * product[\"unit_price\"])])\n",
    "        total_price = product[\"unit_price\"] * quantity - discount\n",
    "        record = {\n",
    "            \"transaction_id\": f\"T{1000+i}\",\n",
    "            \"date\": random_date(),\n",
    "            \"store_id\": f\"S0{random.randint(1, len(store_locations))}\",\n",
    "            \"store_location\": random.choice(store_locations),\n",
    "            \"cashier\": random.choice(cashiers),\n",
    "            \"customer_type\": random.choice(customer_types),\n",
    "            \"product\": product[\"product\"],\n",
    "            \"category\": product[\"category\"],\n",
    "            \"quantity\": quantity,\n",
    "            \"unit_price\": product[\"unit_price\"],\n",
    "            \"discount\": discount,\n",
    "            \"total_price\": total_price,\n",
    "            \"payment_method\": random.choice(payment_methods)\n",
    "        }\n",
    "        f.write(json.dumps(record) + \"\\n\")\n",
    "\n",
    "print(\"Dummy JSONL data generated in 'hypermarket_sales_dummy2.jsonl'\")\n"
   ]
  },
  {
   "cell_type": "code",
   "execution_count": null,
   "id": "734e8a8a",
   "metadata": {},
   "outputs": [],
   "source": []
  }
 ],
 "metadata": {
  "kernelspec": {
   "display_name": "base",
   "language": "python",
   "name": "python3"
  },
  "language_info": {
   "codemirror_mode": {
    "name": "ipython",
    "version": 3
   },
   "file_extension": ".py",
   "mimetype": "text/x-python",
   "name": "python",
   "nbconvert_exporter": "python",
   "pygments_lexer": "ipython3",
   "version": "3.13.5"
  }
 },
 "nbformat": 4,
 "nbformat_minor": 5
}
